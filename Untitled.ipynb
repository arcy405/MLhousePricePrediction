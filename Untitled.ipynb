{
 "cells": [
  {
   "cell_type": "code",
   "execution_count": 1,
   "id": "82ac6762",
   "metadata": {},
   "outputs": [
    {
     "name": "stdout",
     "output_type": "stream",
     "text": [
      "   Id  MSSubClass MSZoning  LotArea LotConfig BldgType  OverallCond  \\\n",
      "0   0          60       RL     8450    Inside     1Fam            5   \n",
      "1   1          20       RL     9600       FR2     1Fam            8   \n",
      "2   2          60       RL    11250    Inside     1Fam            5   \n",
      "3   3          70       RL     9550    Corner     1Fam            5   \n",
      "4   4          60       RL    14260       FR2     1Fam            5   \n",
      "\n",
      "   YearBuilt  YearRemodAdd Exterior1st  BsmtFinSF2  TotalBsmtSF  SalePrice  \n",
      "0       2003          2003     VinylSd         0.0        856.0   208500.0  \n",
      "1       1976          1976     MetalSd         0.0       1262.0   181500.0  \n",
      "2       2001          2002     VinylSd         0.0        920.0   223500.0  \n",
      "3       1915          1970     Wd Sdng         0.0        756.0   140000.0  \n",
      "4       2000          2000     VinylSd         0.0       1145.0   250000.0  \n"
     ]
    }
   ],
   "source": [
    "import pandas as pd\n",
    "import matplotlib.pyplot as plt\n",
    "import seaborn as sns\n",
    "\n",
    "dataset = pd.read_excel(\"HousePricePrediction.xlsx\")\n",
    "\n",
    "print(dataset.head(5))"
   ]
  },
  {
   "cell_type": "code",
   "execution_count": null,
   "id": "0a5b22e4",
   "metadata": {},
   "outputs": [],
   "source": []
  }
 ],
 "metadata": {
  "kernelspec": {
   "display_name": "Python 3 (ipykernel)",
   "language": "python",
   "name": "python3"
  },
  "language_info": {
   "codemirror_mode": {
    "name": "ipython",
    "version": 3
   },
   "file_extension": ".py",
   "mimetype": "text/x-python",
   "name": "python",
   "nbconvert_exporter": "python",
   "pygments_lexer": "ipython3",
   "version": "3.10.9"
  }
 },
 "nbformat": 4,
 "nbformat_minor": 5
}
